{
 "cells": [
  {
   "cell_type": "code",
   "execution_count": 10,
   "source": [
    "import torch\n",
    "from torch.utils.data import DataLoader\n",
    "\n",
    "from src.dataset.en_vi_dataset import EN_VIDataset\n",
    "from src.models.model import Transformer\n",
    "from src.utils.utils import input_target_collate_fn\n",
    "\n",
    "import matplotlib.pyplot as plt\n",
    "import traceback\n",
    "import numpy as np\n",
    "from scipy.spatial import distance"
   ],
   "outputs": [],
   "metadata": {}
  },
  {
   "cell_type": "code",
   "execution_count": 11,
   "source": [
    "dev = 'cpu'"
   ],
   "outputs": [],
   "metadata": {}
  },
  {
   "cell_type": "code",
   "execution_count": 12,
   "source": [
    "pretrained_path = 'weights/Transformer-En2Vi-VPE-WordPiece/best_bleu.pth'\n",
    "config = torch.load(pretrained_path, map_location=dev)"
   ],
   "outputs": [],
   "metadata": {}
  },
  {
   "cell_type": "code",
   "execution_count": 13,
   "source": [
    "token_type = config['config']['dataset']['train']\n",
    "token_type = token_type.get(\n",
    "    'config', {'token_type': 'bpe'}).get('token_type', 'bpe')\n",
    "data_cfg = {\n",
    "    'src_path': 'data/en-vi/raw-data/test/tst2013.en',\n",
    "    'trg_path': 'data/en-vi/raw-data/test/tst2013.vi',\n",
    "}\n",
    "if token_type == 'bpe':\n",
    "    data_cfg.update({\n",
    "        'token_type': 'bpe',\n",
    "        'src_vocab': [\"vocab/english_bpe/en-bpe-minfreq5-vocab.json\",\n",
    "                      \"vocab/english_bpe/en-bpe-minfreq5-merges.txt\"],\n",
    "        'trg_vocab': [\"vocab/vietnamese_bpe/vi-bpe-minfreq5-vocab.json\",\n",
    "                      \"vocab/vietnamese_bpe/vi-bpe-minfreq5-merges.txt\"],\n",
    "        # src_vocab: [\"vocab/shared/shared-vocab.json\", \"vocab/shared/shared-merges.txt\"]\n",
    "        # trg_vocab: [\"vocab/shared/shared-vocab.json\", \"vocab/shared/shared-merges.txt\"]\n",
    "    })\n",
    "elif token_type == 'wordpiece':\n",
    "    data_cfg.update({\n",
    "        'token_type': 'wordpiece',\n",
    "        'src_vocab': 'vocab/english_word/en-wordpiece-minfreq5-vocab.txt',\n",
    "        'trg_vocab': 'vocab/vietnamese_word/vi-wordpiece-minfreq5-vocab.txt',\n",
    "    })\n",
    "ds = EN_VIDataset(**data_cfg)\n",
    "dl = DataLoader(ds, batch_size=2,\n",
    "                collate_fn=input_target_collate_fn)"
   ],
   "outputs": [],
   "metadata": {}
  },
  {
   "cell_type": "code",
   "execution_count": 14,
   "source": [
    "model = Transformer(\n",
    "    n_src_vocab=ds.en_tokenizer.get_vocab_size(),\n",
    "    n_trg_vocab=ds.vi_tokenizer.get_vocab_size(),\n",
    "    src_pad_idx=ds.en_tokenizer.token_to_id('<pad>'),\n",
    "    trg_pad_idx=ds.vi_tokenizer.token_to_id('<pad>'),\n",
    "    **config['config']['model']\n",
    ").to(dev)\n",
    "model.load_state_dict(config['model_state_dict'])\n",
    "model.eval()\n",
    "print()"
   ],
   "outputs": [
    {
     "output_type": "stream",
     "name": "stdout",
     "text": [
      "\n"
     ]
    }
   ],
   "metadata": {}
  },
  {
   "cell_type": "code",
   "execution_count": 15,
   "source": [
    "enc_pos_emb_arr = model.enc_emb.pos_emb.weight.cpu().detach().numpy()"
   ],
   "outputs": [],
   "metadata": {}
  },
  {
   "cell_type": "code",
   "execution_count": 16,
   "source": [
    "(x, y) = enc_pos_emb_arr.shape\n",
    "M_enc = np.zeros((x, x))\n",
    "for i in range(x):\n",
    "    for j in range(x):\n",
    "        dist = distance.euclidean(enc_pos_emb_arr[i], enc_pos_emb_arr[j])\n",
    "        M_enc[i][j] = dist"
   ],
   "outputs": [],
   "metadata": {}
  },
  {
   "cell_type": "code",
   "execution_count": 17,
   "source": [
    "_, ax = plt.subplots(figsize=(7, 7), dpi=150)\n",
    "ax.imshow(M_enc[:50, :50])\n",
    "plt.show()"
   ],
   "outputs": [
    {
     "output_type": "display_data",
     "data": {
      "text/plain": [
       "<Figure size 1050x1050 with 1 Axes>"
      ],
      "image/png": "[encoded data removed]"
     },
     "metadata": {
      "needs_background": "light"
     }
    }
   ],
   "metadata": {}
  },
  {
   "cell_type": "code",
   "execution_count": 18,
   "source": [
    "seq = 'Today is the first day of school'\n",
    "\n",
    "x = torch.LongTensor(ds.en_tokenizer.encode(seq).ids).unsqueeze(0)\n",
    "print('Word embedding:\\n', model.enc_emb.word_emb(x))\n",
    "print('Position embedding:\\n', model.enc_emb.pos_emb.weight)\n",
    "print('Total embedding:\\n', model.enc_emb(x))"
   ],
   "outputs": [
    {
     "output_type": "stream",
     "name": "stdout",
     "text": [
      "Word embedding:\n",
      " tensor([[[ 0.3974,  1.3338,  0.4456,  ...,  0.0466, -1.5812, -0.0478],\n",
      "         [ 0.9164, -2.2703,  0.4485,  ...,  0.4641, -1.4530, -0.6834],\n",
      "         [ 0.8230, -0.9493, -0.0536,  ..., -0.8756, -0.4870, -0.1131],\n",
      "         ...,\n",
      "         [-0.6808, -0.6446, -0.6344,  ...,  0.1201,  0.8015, -0.9617],\n",
      "         [ 1.3064,  0.7145, -0.3726,  ...,  0.1914,  1.4262, -0.1932],\n",
      "         [ 0.5787,  0.5943,  0.1462,  ...,  0.0927, -1.2652, -0.1206]]],\n",
      "       grad_fn=<EmbeddingBackward>)\n",
      "Position embedding:\n",
      " Parameter containing:\n",
      "tensor([[ 0.7014, -1.9116, -2.0101,  ..., -0.1933, -0.7427,  0.0642],\n",
      "        [ 0.1797, -1.7709, -3.5186,  ...,  0.0487, -3.8656, -4.5501],\n",
      "        [-3.9209, -1.2570, -3.5439,  ..., -0.0209, -3.3564, -0.0838],\n",
      "        ...,\n",
      "        [ 1.7904, -1.0147,  2.0733,  ...,  0.6342,  1.3315,  0.1671],\n",
      "        [-0.1189, -0.1489,  0.8026,  ...,  0.9172, -0.7820,  1.6459],\n",
      "        [-0.9398, -0.9894,  0.1774,  ...,  0.4703,  0.5049, -1.2849]],\n",
      "       requires_grad=True)\n",
      "Total embedding:\n",
      " tensor([[[  9.6936,  28.2696,   8.0719,  ...,   0.8617, -36.5219,  -1.0176],\n",
      "         [ 20.9149, -53.1409,   6.6289,  ...,  10.5494, -36.7436, -20.0136],\n",
      "         [ 14.7015, -22.7373,  -4.7563,  ..., -19.8345, -14.3764,  -2.6441],\n",
      "         ...,\n",
      "         [-15.1559, -11.4434, -14.2653,  ...,   5.1247,  18.7691, -21.6947],\n",
      "         [ 30.2317,  16.9646,  -7.6342,  ...,   5.2007,  32.5596,  -4.8460],\n",
      "         [ 14.5996,  15.4539,   3.4154,  ...,   3.7261, -25.9432,  -4.1499]]],\n",
      "       grad_fn=<AddBackward0>)\n"
     ]
    }
   ],
   "metadata": {}
  }
 ],
 "metadata": {
  "orig_nbformat": 4,
  "language_info": {
   "name": "python",
   "version": "3.8.11",
   "mimetype": "text/x-python",
   "codemirror_mode": {
    "name": "ipython",
    "version": 3
   },
   "pygments_lexer": "ipython3",
   "nbconvert_exporter": "python",
   "file_extension": ".py"
  },
  "kernelspec": {
   "name": "python3",
   "display_name": "Python 3.8.10 64-bit ('nlp': conda)"
  },
  "interpreter": {
   "hash": "e4dff0a35ad65f38ecea16344b491af1a0c41400e0651dd717f39521f81d3d08"
  }
 },
 "nbformat": 4,
 "nbformat_minor": 2
}
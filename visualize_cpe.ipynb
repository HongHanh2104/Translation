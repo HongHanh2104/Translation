{
 "cells": [
  {
   "cell_type": "code",
   "execution_count": 1,
   "source": [
    "import torch\n",
    "from torch.utils.data import DataLoader\n",
    "\n",
    "from src.dataset.en_vi_dataset import EN_VIDataset\n",
    "from src.models.model import Transformer\n",
    "from src.utils.utils import input_target_collate_fn\n",
    "\n",
    "import matplotlib.pyplot as plt\n",
    "import traceback\n",
    "import numpy as np\n",
    "from scipy.spatial import distance"
   ],
   "outputs": [],
   "metadata": {}
  },
  {
   "cell_type": "code",
   "execution_count": 2,
   "source": [
    "dev = 'cpu'"
   ],
   "outputs": [],
   "metadata": {}
  },
  {
   "cell_type": "code",
   "execution_count": 3,
   "source": [
    "pretrained_path = 'weights/Transformer-En2Vi-CPE-WordPiece/best_bleu.pth'\n",
    "config = torch.load(pretrained_path, map_location=dev)"
   ],
   "outputs": [],
   "metadata": {}
  },
  {
   "cell_type": "code",
   "execution_count": 4,
   "source": [
    "token_type = config['config']['dataset']['train']\n",
    "token_type = token_type.get(\n",
    "    'config', {'token_type': 'bpe'}).get('token_type', 'bpe')\n",
    "data_cfg = {\n",
    "    'src_path': 'data/en-vi/raw-data/test/tst2013.en',\n",
    "    'trg_path': 'data/en-vi/raw-data/test/tst2013.vi',\n",
    "}\n",
    "if token_type == 'bpe':\n",
    "    data_cfg.update({\n",
    "        'token_type': 'bpe',\n",
    "        'src_vocab': [\"vocab/english_bpe/en-bpe-minfreq5-vocab.json\",\n",
    "                      \"vocab/english_bpe/en-bpe-minfreq5-merges.txt\"],\n",
    "        'trg_vocab': [\"vocab/vietnamese_bpe/vi-bpe-minfreq5-vocab.json\",\n",
    "                      \"vocab/vietnamese_bpe/vi-bpe-minfreq5-merges.txt\"],\n",
    "        # src_vocab: [\"vocab/shared/shared-vocab.json\", \"vocab/shared/shared-merges.txt\"]\n",
    "        # trg_vocab: [\"vocab/shared/shared-vocab.json\", \"vocab/shared/shared-merges.txt\"]\n",
    "    })\n",
    "elif token_type == 'wordpiece':\n",
    "    data_cfg.update({\n",
    "        'token_type': 'wordpiece',\n",
    "        'src_vocab': 'vocab/english_word/en-wordpiece-minfreq5-vocab.txt',\n",
    "        'trg_vocab': 'vocab/vietnamese_word/vi-wordpiece-minfreq5-vocab.txt',\n",
    "    })\n",
    "ds = EN_VIDataset(**data_cfg)\n",
    "dl = DataLoader(ds, batch_size=2,\n",
    "                collate_fn=input_target_collate_fn)"
   ],
   "outputs": [],
   "metadata": {}
  },
  {
   "cell_type": "code",
   "execution_count": 5,
   "source": [
    "model = Transformer(\n",
    "    n_src_vocab=ds.en_tokenizer.get_vocab_size(),\n",
    "    n_trg_vocab=ds.vi_tokenizer.get_vocab_size(),\n",
    "    src_pad_idx=ds.en_tokenizer.token_to_id('<pad>'),\n",
    "    trg_pad_idx=ds.vi_tokenizer.token_to_id('<pad>'),\n",
    "    **config['config']['model']\n",
    ").to(dev)\n",
    "model.load_state_dict(config['model_state_dict'])\n",
    "model.eval()\n",
    "print()"
   ],
   "outputs": [
    {
     "output_type": "stream",
     "name": "stdout",
     "text": [
      "\n"
     ]
    }
   ],
   "metadata": {}
  },
  {
   "cell_type": "code",
   "execution_count": 6,
   "source": [
    "em_freq_emb = model.enc_emb.freq_emb.weight.detach().numpy()"
   ],
   "outputs": [],
   "metadata": {}
  },
  {
   "cell_type": "code",
   "execution_count": 7,
   "source": [
    "abs_mean_em_freq = np.absolute(em_freq_emb).mean(-1)"
   ],
   "outputs": [],
   "metadata": {}
  },
  {
   "cell_type": "code",
   "execution_count": 8,
   "source": [
    "plt.hist(abs_mean_em_freq)"
   ],
   "outputs": [
    {
     "output_type": "execute_result",
     "data": {
      "text/plain": [
       "(array([1.0000e+00, 0.0000e+00, 0.0000e+00, 0.0000e+00, 0.0000e+00,\n",
       "        0.0000e+00, 0.0000e+00, 2.6470e+03, 2.1139e+04, 2.9790e+03]),\n",
       " array([0.        , 0.09379594, 0.18759188, 0.28138784, 0.37518376,\n",
       "        0.46897972, 0.5627757 , 0.6565716 , 0.7503675 , 0.8441635 ,\n",
       "        0.93795943], dtype=float32),\n",
       " <BarContainer object of 10 artists>)"
      ]
     },
     "metadata": {},
     "execution_count": 8
    },
    {
     "output_type": "display_data",
     "data": {
      "text/plain": [
       "<Figure size 432x288 with 1 Axes>"
      ],
      "image/png": "[encoded data removed]"
     },
     "metadata": {
      "needs_background": "light"
     }
    }
   ],
   "metadata": {}
  },
  {
   "cell_type": "code",
   "execution_count": 9,
   "source": [
    "for t in abs_mean_em_freq.argsort()[:50]:\n",
    "    print(ds.en_tokenizer.id_to_token(t))"
   ],
   "outputs": [
    {
     "output_type": "stream",
     "name": "stdout",
     "text": [
      "<pad>\n",
      "commentary\n",
      "shru\n",
      "albe\n",
      "##ft\n",
      "Arabic\n",
      "##mark\n",
      "frankly\n",
      "country\n",
      "Companies\n",
      "mathematicians\n",
      "incons\n",
      "bal\n",
      "##arial\n",
      "maze\n",
      "Gord\n",
      "teem\n",
      "alt\n",
      "mart\n",
      "gambling\n",
      "sinking\n",
      "fo\n",
      "doors\n",
      "Om\n",
      "##kay\n",
      "accused\n",
      "##encia\n",
      "Sec\n",
      "phases\n",
      "Rand\n",
      "São\n",
      "knuck\n",
      "therein\n",
      "Lau\n",
      "minut\n",
      "et\n",
      "Anne\n",
      "##alm\n",
      "irrelevant\n",
      "marijuana\n",
      "##tan\n",
      "audit\n",
      "today\n",
      "abusive\n",
      "vari\n",
      "##eah\n",
      "Ident\n",
      "voila\n",
      "disappeared\n",
      "12th\n"
     ]
    }
   ],
   "metadata": {}
  },
  {
   "cell_type": "code",
   "execution_count": 10,
   "source": [
    "for t in abs_mean_em_freq.argsort()[-50:]:\n",
    "    print(ds.en_tokenizer.id_to_token(t))"
   ],
   "outputs": [
    {
     "output_type": "stream",
     "name": "stdout",
     "text": [
      "Dad\n",
      "##ravel\n",
      "ham\n",
      "distinguish\n",
      "wheelchair\n",
      "##aving\n",
      "Ple\n",
      "zone\n",
      "AK\n",
      "paraph\n",
      "portrayed\n",
      "##DF\n",
      "bonus\n",
      "Maui\n",
      "ability\n",
      "##stan\n",
      "rock\n",
      "Spr\n",
      "Pian\n",
      "crowdsourcing\n",
      "presumably\n",
      "biologically\n",
      "Kant\n",
      "arter\n",
      "dependencies\n",
      "degrad\n",
      "imagination\n",
      "##bit\n",
      "couldn\n",
      "##leep\n",
      "sprinting\n",
      "anth\n",
      "activities\n",
      "printer\n",
      "##amp\n",
      "arose\n",
      "##erness\n",
      "visiting\n",
      "names\n",
      "stranded\n",
      "grandfathers\n",
      "lifeless\n",
      "Tan\n",
      "standard\n",
      "imper\n",
      "sad\n",
      "melts\n",
      "ineffect\n",
      "vocabulary\n",
      "spraying\n"
     ]
    }
   ],
   "metadata": {}
  }
 ],
 "metadata": {
  "orig_nbformat": 4,
  "language_info": {
   "name": "python",
   "version": "3.8.11",
   "mimetype": "text/x-python",
   "codemirror_mode": {
    "name": "ipython",
    "version": 3
   },
   "pygments_lexer": "ipython3",
   "nbconvert_exporter": "python",
   "file_extension": ".py"
  },
  "kernelspec": {
   "name": "python3",
   "display_name": "Python 3.8.10 64-bit ('nlp': conda)"
  },
  "interpreter": {
   "hash": "e4dff0a35ad65f38ecea16344b491af1a0c41400e0651dd717f39521f81d3d08"
  }
 },
 "nbformat": 4,
 "nbformat_minor": 2
}
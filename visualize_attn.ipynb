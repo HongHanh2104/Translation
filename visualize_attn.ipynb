{
 "cells": [
  {
   "cell_type": "code",
   "execution_count": 1,
   "source": [
    "import torch\n",
    "from torch.utils.data import DataLoader\n",
    "\n",
    "from src.dataset.en_vi_dataset import EN_VIDataset\n",
    "from src.models.model import Transformer\n",
    "from src.utils.utils import input_target_collate_fn\n",
    "\n",
    "import matplotlib.pyplot as plt\n",
    "import traceback"
   ],
   "outputs": [],
   "metadata": {}
  },
  {
   "cell_type": "code",
   "execution_count": 2,
   "source": [
    "dev = 'cpu'"
   ],
   "outputs": [],
   "metadata": {}
  },
  {
   "cell_type": "code",
   "execution_count": 3,
   "source": [
    "pretrained_path = 'weights/Transformer-En2Vi-CPE-WordPiece/best_bleu.pth'\n",
    "config = torch.load(pretrained_path, map_location=dev)"
   ],
   "outputs": [],
   "metadata": {}
  },
  {
   "cell_type": "code",
   "execution_count": 4,
   "source": [
    "token_type = config['config']['dataset']['train']\n",
    "token_type = token_type.get(\n",
    "    'config', {'token_type': 'bpe'}).get('token_type', 'bpe')\n",
    "data_cfg = {\n",
    "    'src_path': 'data/en-vi/raw-data/val/tst2012.en',\n",
    "    'trg_path': 'data/en-vi/raw-data/val/tst2012.vi',\n",
    "}\n",
    "if token_type == 'bpe':\n",
    "    data_cfg.update({\n",
    "        'token_type': 'bpe',\n",
    "        'src_vocab': [\"vocab/english_bpe/en-bpe-minfreq5-vocab.json\",\n",
    "                      \"vocab/english_bpe/en-bpe-minfreq5-merges.txt\"],\n",
    "        'trg_vocab': [\"vocab/vietnamese_bpe/vi-bpe-minfreq5-vocab.json\",\n",
    "                      \"vocab/vietnamese_bpe/vi-bpe-minfreq5-merges.txt\"],\n",
    "        # src_vocab: [\"vocab/shared/shared-vocab.json\", \"vocab/shared/shared-merges.txt\"]\n",
    "        # trg_vocab: [\"vocab/shared/shared-vocab.json\", \"vocab/shared/shared-merges.txt\"]\n",
    "    })\n",
    "elif token_type == 'wordpiece':\n",
    "    data_cfg.update({\n",
    "        'token_type': 'wordpiece',\n",
    "        'src_vocab': 'vocab/english_word/en-wordpiece-minfreq5-vocab.txt',\n",
    "        'trg_vocab': 'vocab/vietnamese_word/vi-wordpiece-minfreq5-vocab.txt',\n",
    "    })\n",
    "ds = EN_VIDataset(**data_cfg)\n",
    "dl = DataLoader(ds, batch_size=2, shuffle=True,\n",
    "                collate_fn=input_target_collate_fn)"
   ],
   "outputs": [],
   "metadata": {}
  },
  {
   "cell_type": "code",
   "execution_count": 5,
   "source": [
    "TRG_EOS_TOKEN = '</s>'\n",
    "TRG_EOS_ID = ds.vi_tokenizer.token_to_id(TRG_EOS_TOKEN)"
   ],
   "outputs": [],
   "metadata": {}
  },
  {
   "cell_type": "code",
   "execution_count": 6,
   "source": [
    "model = Transformer(\n",
    "    n_src_vocab=ds.en_tokenizer.get_vocab_size(),\n",
    "    n_trg_vocab=ds.vi_tokenizer.get_vocab_size(),\n",
    "    src_pad_idx=ds.en_tokenizer.token_to_id('<pad>'),\n",
    "    trg_pad_idx=ds.vi_tokenizer.token_to_id('<pad>'),\n",
    "    **config['config']['model']\n",
    ").to(dev)\n",
    "model.load_state_dict(config['model_state_dict'])\n",
    "model.eval()\n",
    "print()"
   ],
   "outputs": [
    {
     "output_type": "stream",
     "name": "stdout",
     "text": [
      "\n"
     ]
    }
   ],
   "metadata": {}
  },
  {
   "cell_type": "markdown",
   "source": [
    "# **Visualize attention**"
   ],
   "metadata": {}
  },
  {
   "cell_type": "code",
   "execution_count": 7,
   "source": [
    "def visualize_attn(attn, dsts, ques):\n",
    "    for j, (b, dst, que) in enumerate(zip(attn, dsts, ques)):\n",
    "        print(f'===== Input {j} =====')\n",
    "        fig, ax = plt.subplots(figsize=(10, 10), dpi=150)\n",
    "        ax.imshow(b.mean(0).detach().cpu())\n",
    "        \n",
    "        ax.set_xticks(range(len(dst)))\n",
    "        ax.set_xticklabels(dst)\n",
    "        plt.setp(ax.get_xticklabels(), rotation=45, ha=\"right\", rotation_mode=\"anchor\")\n",
    "\n",
    "        ax.set_yticks(range(len(que)))\n",
    "        ax.set_yticklabels(que)\n",
    "        plt.show()"
   ],
   "outputs": [],
   "metadata": {}
  },
  {
   "cell_type": "code",
   "execution_count": 8,
   "source": [
    "@torch.no_grad()\n",
    "def make_prediction(model, src, trg):\n",
    "    src = src.to(dev)\n",
    "    trg = trg.to(dev)\n",
    "\n",
    "    src_ = src.cpu().numpy()\n",
    "    src_tokens = [[ds.en_tokenizer.id_to_token(ss) for ss in s] for s in src_]\n",
    "    src_ = ds.en_tokenizer.decode_batch(src_)\n",
    "    # print('Source', src_tokens)\n",
    "\n",
    "    trg_ = trg.cpu().numpy()\n",
    "    trg_tokens = [[ds.vi_tokenizer.id_to_token(ss) for ss in s] for s in trg_]\n",
    "    # trg_ = ds.vi_tokenizer.decode_batch(trg_)\n",
    "    # print('Target', trg_tokens)\n",
    "\n",
    "    pred = model(src, trg[:, :-1])\n",
    "    pred_ = pred.argmax(-1).cpu().numpy()\n",
    "    pred_tokens = [[ds.vi_tokenizer.id_to_token(ss) for ss in s] for s in pred_]\n",
    "    # pred_ = ds.vi_tokenizer.decode_batch(pred_)\n",
    "    # print('Prediction', pred_tokens)\n",
    "\n",
    "    return src_tokens, trg_tokens, pred_tokens"
   ],
   "outputs": [],
   "metadata": {}
  },
  {
   "cell_type": "code",
   "execution_count": 9,
   "source": [
    "def visualize_attn_hook(m, i, o):\n",
    "    global attn\n",
    "    try:\n",
    "        attn.append(o[1])\n",
    "    except:\n",
    "        traceback.print_exc()\n",
    "        # handle.remove()\n",
    "    # handle.remove()"
   ],
   "outputs": [],
   "metadata": {}
  },
  {
   "cell_type": "code",
   "execution_count": 10,
   "source": [
    "for i, (src, trg) in enumerate(dl):\n",
    "    break"
   ],
   "outputs": [],
   "metadata": {}
  },
  {
   "cell_type": "markdown",
   "source": [
    "## **Encoder self-attention**"
   ],
   "metadata": {}
  },
  {
   "cell_type": "code",
   "execution_count": 11,
   "source": [
    "nlayers = len(model.encoder.layer_stack)\n",
    "handle = [model.encoder.layer_stack[l].self_attn.attention.register_forward_hook(visualize_attn_hook)\n",
    "            for l in range(nlayers)]\n",
    "    \n",
    "attn = []\n",
    "src_tokens, trg_tokens, pred_tokens = make_prediction(model, src, trg)\n",
    "for l in range(nlayers):\n",
    "    print(f'=== Layer {l} ===')\n",
    "    handle[l].remove()\n",
    "    visualize_attn(attn[l], src_tokens, src_tokens)"
   ],
   "outputs": [],
   "metadata": {}
  },
  {
   "cell_type": "markdown",
   "source": [
    "## **Decoder self-attention**"
   ],
   "metadata": {}
  },
  {
   "cell_type": "code",
   "execution_count": null,
   "source": [
    "nlayers = len(model.encoder.layer_stack)\n",
    "handle = [model.decoder.layer_stack[l].masked_self_attn.attention.register_forward_hook(visualize_attn_hook)\n",
    "            for l in range(nlayers)]\n",
    "    \n",
    "attn = []\n",
    "src_tokens, trg_tokens, pred_tokens = make_prediction(model, src, trg)\n",
    "for l in range(nlayers):\n",
    "    print(f'=== Layer {l} ===')\n",
    "    handle[l].remove()\n",
    "    visualize_attn(attn[l], trg_tokens, trg_tokens)"
   ],
   "outputs": [],
   "metadata": {}
  },
  {
   "cell_type": "markdown",
   "source": [
    "## **Encoder-Decoder attention**"
   ],
   "metadata": {}
  },
  {
   "cell_type": "code",
   "execution_count": null,
   "source": [
    "nlayers = len(model.encoder.layer_stack)\n",
    "handle = [model.decoder.layer_stack[l].enc_dec_attn.attention.register_forward_hook(visualize_attn_hook)\n",
    "            for l in range(nlayers)]\n",
    "    \n",
    "attn = []\n",
    "src_tokens, trg_tokens, pred_tokens = make_prediction(model, src, trg)\n",
    "for l in range(nlayers):\n",
    "    print(f'=== Layer {l} ===')\n",
    "    handle[l].remove()\n",
    "    visualize_attn(attn[l], src_tokens, trg_tokens)"
   ],
   "outputs": [],
   "metadata": {}
  }
 ],
 "metadata": {
  "orig_nbformat": 4,
  "language_info": {
   "name": "python",
   "version": "3.8.11",
   "mimetype": "text/x-python",
   "codemirror_mode": {
    "name": "ipython",
    "version": 3
   },
   "pygments_lexer": "ipython3",
   "nbconvert_exporter": "python",
   "file_extension": ".py"
  },
  "kernelspec": {
   "name": "python3",
   "display_name": "Python 3.8.10 64-bit ('nlp': conda)"
  },
  "interpreter": {
   "hash": "e4dff0a35ad65f38ecea16344b491af1a0c41400e0651dd717f39521f81d3d08"
  }
 },
 "nbformat": 4,
 "nbformat_minor": 2
}
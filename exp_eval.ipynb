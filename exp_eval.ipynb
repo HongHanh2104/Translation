{
 "cells": [
  {
   "cell_type": "code",
   "execution_count": 1,
   "source": [
    "import torch\n",
    "from torch.utils.data import DataLoader\n",
    "import nltk\n",
    "from tqdm import tqdm\n",
    "import numpy as np\n",
    "\n",
    "from src.dataset.en_vi_dataset import EN_VIDataset\n",
    "from src.models.model import Transformer\n",
    "from src.utils.utils import input_target_collate_fn\n"
   ],
   "outputs": [
    {
     "output_type": "error",
     "ename": "ModuleNotFoundError",
     "evalue": "No module named 'nltk'",
     "traceback": [
      "\u001b[0;31m---------------------------------------------------------------------------\u001b[0m",
      "\u001b[0;31mModuleNotFoundError\u001b[0m                       Traceback (most recent call last)",
      "\u001b[0;32m<ipython-input-1-0a050542b319>\u001b[0m in \u001b[0;36m<module>\u001b[0;34m\u001b[0m\n\u001b[1;32m      1\u001b[0m \u001b[0;32mimport\u001b[0m \u001b[0mtorch\u001b[0m\u001b[0;34m\u001b[0m\u001b[0;34m\u001b[0m\u001b[0m\n\u001b[1;32m      2\u001b[0m \u001b[0;32mfrom\u001b[0m \u001b[0mtorch\u001b[0m\u001b[0;34m.\u001b[0m\u001b[0mutils\u001b[0m\u001b[0;34m.\u001b[0m\u001b[0mdata\u001b[0m \u001b[0;32mimport\u001b[0m \u001b[0mDataLoader\u001b[0m\u001b[0;34m\u001b[0m\u001b[0;34m\u001b[0m\u001b[0m\n\u001b[0;32m----> 3\u001b[0;31m \u001b[0;32mimport\u001b[0m \u001b[0mnltk\u001b[0m\u001b[0;34m\u001b[0m\u001b[0;34m\u001b[0m\u001b[0m\n\u001b[0m\u001b[1;32m      4\u001b[0m \u001b[0;32mfrom\u001b[0m \u001b[0mtqdm\u001b[0m \u001b[0;32mimport\u001b[0m \u001b[0mtqdm\u001b[0m\u001b[0;34m\u001b[0m\u001b[0;34m\u001b[0m\u001b[0m\n\u001b[1;32m      5\u001b[0m \u001b[0;32mimport\u001b[0m \u001b[0mnumpy\u001b[0m \u001b[0;32mas\u001b[0m \u001b[0mnp\u001b[0m\u001b[0;34m\u001b[0m\u001b[0;34m\u001b[0m\u001b[0m\n",
      "\u001b[0;31mModuleNotFoundError\u001b[0m: No module named 'nltk'"
     ]
    }
   ],
   "metadata": {}
  },
  {
   "cell_type": "code",
   "execution_count": null,
   "source": [
    "dev = 'cuda'\n",
    "weight_fn = 'weights/Transformer-En2Vi-VPE-WordPiece/best_bleu.pth'\n",
    "src_path = 'data/en-vi/raw-data/test/tst2013.en'\n",
    "trg_path = 'data/en-vi/raw-data/test/tst2013.vi'\n",
    "batch_size = 64"
   ],
   "outputs": [],
   "metadata": {}
  },
  {
   "cell_type": "code",
   "execution_count": null,
   "source": [
    "def postprocess_wordpiece(x, tokenizer):\n",
    "    return ' '.join([\n",
    "        tokenizer.id_to_token(xx)\n",
    "        for xx in x\n",
    "    ]).replace(' ##', '').split()\n",
    "\n",
    "\n",
    "def postprocess_batch(batch, eos_id):\n",
    "    ps = []\n",
    "    for t in batch:\n",
    "        eos = np.where(t == eos_id)[0]\n",
    "        if len(eos) > 0:\n",
    "            ps.append(t[:eos[0]])\n",
    "        else:\n",
    "            ps.append(t)\n",
    "    return ps"
   ],
   "outputs": [],
   "metadata": {}
  },
  {
   "cell_type": "code",
   "execution_count": null,
   "source": [
    "config = torch.load(weight_fn, map_location=dev)"
   ],
   "outputs": [],
   "metadata": {}
  },
  {
   "cell_type": "code",
   "execution_count": null,
   "source": [
    "token_type = config['config']['dataset']['train']\n",
    "token_type = token_type.get(\n",
    "    'config', {'token_type': 'bpe'}).get('token_type', 'bpe')\n",
    "data_cfg = {\n",
    "    'src_path': src_path,\n",
    "    'trg_path': trg_path,\n",
    "}\n",
    "if token_type == 'bpe':\n",
    "    data_cfg.update({\n",
    "        'token_type': 'bpe',\n",
    "        'src_vocab': [\"vocab/english_bpe/en-bpe-minfreq5-vocab.json\",\n",
    "                      \"vocab/english_bpe/en-bpe-minfreq5-merges.txt\"],\n",
    "        'trg_vocab': [\"vocab/vietnamese_bpe/vi-bpe-minfreq5-vocab.json\",\n",
    "                      \"vocab/vietnamese_bpe/vi-bpe-minfreq5-merges.txt\"],\n",
    "    })\n",
    "elif token_type == 'wordpiece':\n",
    "    data_cfg.update({\n",
    "        'token_type': 'wordpiece',\n",
    "        'src_vocab': 'vocab/english_word/en-wordpiece-minfreq5-vocab.txt',\n",
    "        'trg_vocab': 'vocab/vietnamese_word/vi-wordpiece-minfreq5-vocab.txt',\n",
    "    })\n",
    "ds = EN_VIDataset(**data_cfg)\n",
    "dl = DataLoader(ds, batch_size=batch_size,\n",
    "                collate_fn=input_target_collate_fn)"
   ],
   "outputs": [],
   "metadata": {}
  },
  {
   "cell_type": "code",
   "execution_count": null,
   "source": [
    "TRG_EOS_TOKEN = '</s>'\n",
    "TRG_EOS_ID = ds.vi_tokenizer.token_to_id(TRG_EOS_TOKEN)\n",
    "SRC_EOS_TOKEN = '</s>'\n",
    "SRC_EOS_ID = ds.en_tokenizer.token_to_id(SRC_EOS_TOKEN)"
   ],
   "outputs": [],
   "metadata": {}
  },
  {
   "cell_type": "code",
   "execution_count": null,
   "source": [
    "model = Transformer(\n",
    "    n_src_vocab=ds.en_tokenizer.get_vocab_size(),\n",
    "    n_trg_vocab=ds.vi_tokenizer.get_vocab_size(),\n",
    "    src_pad_idx=ds.en_tokenizer.token_to_id('<pad>'),\n",
    "    trg_pad_idx=ds.vi_tokenizer.token_to_id('<pad>'),\n",
    "    **config['config']['model']\n",
    ").to(dev)\n",
    "model.load_state_dict(config['model_state_dict'])\n",
    "model.eval()\n",
    "print()"
   ],
   "outputs": [],
   "metadata": {}
  },
  {
   "cell_type": "code",
   "execution_count": null,
   "source": [
    "with torch.no_grad():\n",
    "    trgs, preds = [], []\n",
    "    bar = tqdm(dl)\n",
    "    score = 0\n",
    "    for i, (src, trg) in enumerate(bar):\n",
    "        bar.set_description(f'BLEU: {score:.06f}')\n",
    "\n",
    "        src = src.to(dev)\n",
    "        trg = trg.to(dev)\n",
    "\n",
    "        trg_ = trg.cpu().numpy()[:, 1:]\n",
    "\n",
    "        ps = postprocess_batch(trg_, SRC_EOS_ID)\n",
    "        if token_type == 'bpe':\n",
    "            ps = [[x.split()] for x in ds.vi_tokenizer.decode_batch(ps)]\n",
    "        elif token_type == 'wordpiece':\n",
    "            ps = [\n",
    "                [postprocess_wordpiece(x, ds.vi_tokenizer)]\n",
    "                for x in ps\n",
    "            ]\n",
    "        # print(ps)\n",
    "        trgs += ps\n",
    "\n",
    "        pred = model.predict(src,\n",
    "                            max_length=256,\n",
    "                            eos_id=TRG_EOS_ID)\n",
    "        pred_ = pred.cpu().numpy()\n",
    "        # for t in pred_:\n",
    "        #     print(t)\n",
    "        # print(pred_)\n",
    "        ps = postprocess_batch(pred_, TRG_EOS_ID)\n",
    "        if token_type == 'wordpiece':\n",
    "            ps = [\n",
    "                postprocess_wordpiece(x, ds.vi_tokenizer)\n",
    "                for x in ps\n",
    "            ]\n",
    "        elif token_type == 'bpe':\n",
    "            ps = [x.split() for x in ds.vi_tokenizer.decode_batch(ps)]\n",
    "        preds += ps\n",
    "\n",
    "        score = nltk.translate.bleu_score.corpus_bleu(trgs, preds)\n",
    "    print('Final', score)"
   ],
   "outputs": [],
   "metadata": {}
  }
 ],
 "metadata": {
  "orig_nbformat": 4,
  "language_info": {
   "name": "python",
   "version": "3.8.11",
   "mimetype": "text/x-python",
   "codemirror_mode": {
    "name": "ipython",
    "version": 3
   },
   "pygments_lexer": "ipython3",
   "nbconvert_exporter": "python",
   "file_extension": ".py"
  },
  "kernelspec": {
   "name": "python3",
   "display_name": "Python 3.8.10 64-bit ('nlp': conda)"
  },
  "interpreter": {
   "hash": "e4dff0a35ad65f38ecea16344b491af1a0c41400e0651dd717f39521f81d3d08"
  }
 },
 "nbformat": 4,
 "nbformat_minor": 2
}